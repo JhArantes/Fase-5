{
 "cells": [
  {
   "cell_type": "markdown",
   "id": "26a2e10c",
   "metadata": {},
   "source": [
    "# Aplicações de Limites e Derivadas"
   ]
  },
  {
   "cell_type": "code",
   "execution_count": 28,
   "id": "f2221315",
   "metadata": {},
   "outputs": [],
   "source": [
    "import numpy as np\n",
    "import sympy as smp\n",
    "import matplotlib as plt"
   ]
  },
  {
   "cell_type": "code",
   "execution_count": 9,
   "id": "435e193b",
   "metadata": {},
   "outputs": [
    {
     "data": {
      "text/latex": [
       "$\\displaystyle x$"
      ],
      "text/plain": [
       "x"
      ]
     },
     "execution_count": 9,
     "metadata": {},
     "output_type": "execute_result"
    }
   ],
   "source": [
    "x = smp.symbols('x')\n",
    "x"
   ]
  },
  {
   "cell_type": "code",
   "execution_count": 5,
   "id": "b4b11bbd",
   "metadata": {},
   "outputs": [],
   "source": [
    "funcao = ((x**2 + x - 2) / (x - 1))"
   ]
  },
  {
   "cell_type": "code",
   "execution_count": 7,
   "id": "4431f6e9",
   "metadata": {},
   "outputs": [
    {
     "data": {
      "text/latex": [
       "$\\displaystyle \\frac{x^{2} + x - 2}{x - 1}$"
      ],
      "text/plain": [
       "(x**2 + x - 2)/(x - 1)"
      ]
     },
     "execution_count": 7,
     "metadata": {},
     "output_type": "execute_result"
    }
   ],
   "source": [
    "funcao"
   ]
  },
  {
   "cell_type": "code",
   "execution_count": 8,
   "id": "96b14cae",
   "metadata": {},
   "outputs": [
    {
     "data": {
      "text/latex": [
       "$\\displaystyle 3$"
      ],
      "text/plain": [
       "3"
      ]
     },
     "execution_count": 8,
     "metadata": {},
     "output_type": "execute_result"
    }
   ],
   "source": [
    "smp.limit(funcao, x, 1)"
   ]
  },
  {
   "cell_type": "code",
   "execution_count": 10,
   "id": "a5ad0d06",
   "metadata": {},
   "outputs": [
    {
     "data": {
      "image/png": "[encoded data removed]",
      "text/plain": [
       "<Figure size 640x480 with 1 Axes>"
      ]
     },
     "metadata": {},
     "output_type": "display_data"
    },
    {
     "data": {
      "text/plain": [
       "<sympy.plotting.backends.matplotlibbackend.matplotlib.MatplotlibBackend at 0x2bb655f1550>"
      ]
     },
     "execution_count": 10,
     "metadata": {},
     "output_type": "execute_result"
    }
   ],
   "source": [
    "smp.plot(funcao)"
   ]
  },
  {
   "cell_type": "markdown",
   "id": "f49e64db",
   "metadata": {},
   "source": [
    "- Estudo de limites da função logistica"
   ]
  },
  {
   "cell_type": "code",
   "execution_count": 12,
   "id": "ec350b97",
   "metadata": {},
   "outputs": [
    {
     "data": {
      "text/latex": [
       "$\\displaystyle x$"
      ],
      "text/plain": [
       "x"
      ]
     },
     "execution_count": 12,
     "metadata": {},
     "output_type": "execute_result"
    }
   ],
   "source": [
    "x = smp.symbols('x')\n",
    "x"
   ]
  },
  {
   "cell_type": "code",
   "execution_count": 13,
   "id": "e04d5e41",
   "metadata": {},
   "outputs": [
    {
     "data": {
      "text/latex": [
       "$\\displaystyle \\frac{1}{1 + e^{- x}}$"
      ],
      "text/plain": [
       "1/(1 + exp(-x))"
      ]
     },
     "execution_count": 13,
     "metadata": {},
     "output_type": "execute_result"
    }
   ],
   "source": [
    "funcao = 1 / (1 + smp.exp(-x))\n",
    "funcao"
   ]
  },
  {
   "cell_type": "code",
   "execution_count": 15,
   "metadata": {},
   "outputs": [
    {
     "data": {
      "text/latex": [
       "$\\displaystyle \\frac{1}{2}$"
      ],
      "text/plain": [
       "1/2"
      ]
     },
     "execution_count": 15,
     "metadata": {},
     "output_type": "execute_result"
    }
   ],
   "source": [
    "smp.limit(funcao, x, 0)"
   ]
  },
  {
   "cell_type": "code",
   "execution_count": 16,
   "id": "890c1db1",
   "metadata": {},
   "outputs": [
    {
     "data": {
      "text/latex": [
       "$\\displaystyle 1$"
      ],
      "text/plain": [
       "1"
      ]
     },
     "execution_count": 16,
     "metadata": {},
     "output_type": "execute_result"
    }
   ],
   "source": [
    "# limite da funcao quando x tende ao infinito \n",
    "smp.limit(funcao, x, smp.oo)"
   ]
  },
  {
   "cell_type": "code",
   "execution_count": 17,
   "id": "accf256c",
   "metadata": {},
   "outputs": [
    {
     "data": {
      "text/latex": [
       "$\\displaystyle 0$"
      ],
      "text/plain": [
       "0"
      ]
     },
     "execution_count": 17,
     "metadata": {},
     "output_type": "execute_result"
    }
   ],
   "source": [
    "# limite da funcao quando x tende ao infinito Negativo\n",
    "smp.limit(funcao, x, -smp.oo)"
   ]
  },
  {
   "cell_type": "markdown",
   "id": "ed5bff1a",
   "metadata": {},
   "source": [
    "## Derivadas"
   ]
  },
  {
   "cell_type": "code",
   "execution_count": 18,
   "id": "0029db0c",
   "metadata": {},
   "outputs": [
    {
     "data": {
      "text/latex": [
       "$\\displaystyle x$"
      ],
      "text/plain": [
       "x"
      ]
     },
     "execution_count": 18,
     "metadata": {},
     "output_type": "execute_result"
    }
   ],
   "source": [
    "x = smp.symbols('x')\n",
    "x"
   ]
  },
  {
   "cell_type": "code",
   "execution_count": 20,
   "id": "314f1302",
   "metadata": {},
   "outputs": [
    {
     "data": {
      "text/latex": [
       "$\\displaystyle x^{2}$"
      ],
      "text/plain": [
       "x**2"
      ]
     },
     "execution_count": 20,
     "metadata": {},
     "output_type": "execute_result"
    }
   ],
   "source": [
    "f = x**2\n",
    "f"
   ]
  },
  {
   "cell_type": "code",
   "execution_count": 21,
   "id": "ae8caf96",
   "metadata": {},
   "outputs": [
    {
     "data": {
      "text/latex": [
       "$\\displaystyle 2 x$"
      ],
      "text/plain": [
       "2*x"
      ]
     },
     "execution_count": 21,
     "metadata": {},
     "output_type": "execute_result"
    }
   ],
   "source": [
    "smp.diff(f)"
   ]
  },
  {
   "cell_type": "markdown",
   "id": "755b10a8",
   "metadata": {},
   "source": [
    "- Gráficos da funcao e da derivada"
   ]
  },
  {
   "cell_type": "code",
   "execution_count": 22,
   "id": "64ba233e",
   "metadata": {},
   "outputs": [
    {
     "data": {
      "text/plain": [
       "(x**2, 2*x)"
      ]
     },
     "execution_count": 22,
     "metadata": {},
     "output_type": "execute_result"
    }
   ],
   "source": [
    "funcao_original = x**2\n",
    "funcao_derivada = smp.diff(funcao_original)\n",
    "\n",
    "funcao_original, funcao_derivada"
   ]
  },
  {
   "cell_type": "code",
   "execution_count": null,
   "id": "1644dd09",
   "metadata": {},
   "outputs": [
    {
     "ename": "TypeError",
     "evalue": "'Pow' object is not callable",
     "output_type": "error",
     "traceback": [
      "\u001b[31m---------------------------------------------------------------------------\u001b[39m",
      "\u001b[31mTypeError\u001b[39m                                 Traceback (most recent call last)",
      "\u001b[36mCell\u001b[39m\u001b[36m \u001b[39m\u001b[32mIn[23]\u001b[39m\u001b[32m, line 1\u001b[39m\n\u001b[32m----> \u001b[39m\u001b[32m1\u001b[39m \u001b[43mfuncao_original\u001b[49m\u001b[43m(\u001b[49m\u001b[32;43m2\u001b[39;49m\u001b[43m)\u001b[49m\n",
      "\u001b[31mTypeError\u001b[39m: 'Pow' object is not callable"
     ]
    }
   ],
   "source": [
    "# Nao funciona com matematica simbolica\n",
    "funcao_original(2)"
   ]
  },
  {
   "cell_type": "code",
   "execution_count": 25,
   "id": "87fb6724",
   "metadata": {},
   "outputs": [],
   "source": [
    "funcao_original = smp.lambdify(x, funcao_original)\n",
    "funcao_derivada = smp.lambdify(x, funcao_derivada)"
   ]
  },
  {
   "cell_type": "code",
   "execution_count": null,
   "id": "705742cb",
   "metadata": {},
   "outputs": [
    {
     "data": {
      "text/plain": [
       "4"
      ]
     },
     "execution_count": 26,
     "metadata": {},
     "output_type": "execute_result"
    }
   ],
   "source": [
    "# funciona com matematica computacional\n",
    "funcao_original(2)"
   ]
  },
  {
   "cell_type": "code",
   "execution_count": 30,
   "id": "e6ea8b40",
   "metadata": {},
   "outputs": [
    {
     "data": {
      "text/plain": [
       "[<matplotlib.lines.Line2D at 0x2bb7f903610>]"
      ]
     },
     "execution_count": 30,
     "metadata": {},
     "output_type": "execute_result"
    },
    {
     "data": {
      "image/png": "[encoded data removed]",
      "text/plain": [
       "<Figure size 640x480 with 1 Axes>"
      ]
     },
     "metadata": {},
     "output_type": "display_data"
    }
   ],
   "source": [
    "# grafico da fincao original\n",
    "y = [funcao_original(i) for i in range(-100, 100)]\n",
    "plt.pyplot.plot(range(-100, 100), y)"
   ]
  },
  {
   "cell_type": "code",
   "execution_count": 33,
   "id": "366e528b",
   "metadata": {},
   "outputs": [
    {
     "data": {
      "text/plain": [
       "[<matplotlib.lines.Line2D at 0x2bb7fb7ae90>]"
      ]
     },
     "execution_count": 33,
     "metadata": {},
     "output_type": "execute_result"
    },
    {
     "data": {
      "image/png": "[encoded data removed]",
      "text/plain": [
       "<Figure size 640x480 with 1 Axes>"
      ]
     },
     "metadata": {},
     "output_type": "display_data"
    }
   ],
   "source": [
    "# grafico da fincao original\n",
    "y_d = [funcao_derivada(i) for i in range(-100, 100)]\n",
    "plt.pyplot.plot(range(-100, 100), y_d)"
   ]
  },
  {
   "cell_type": "code",
   "execution_count": null,
   "id": "864f88d8",
   "metadata": {},
   "outputs": [],
   "source": []
  }
 ],
 "metadata": {
  "kernelspec": {
   "display_name": "Python 3",
   "language": "python",
   "name": "python3"
  },
  "language_info": {
   "codemirror_mode": {
    "name": "ipython",
    "version": 3
   },
   "file_extension": ".py",
   "mimetype": "text/x-python",
   "name": "python",
   "nbconvert_exporter": "python",
   "pygments_lexer": "ipython3",
   "version": "3.13.5"
  }
 },
 "nbformat": 4,
 "nbformat_minor": 5
}
