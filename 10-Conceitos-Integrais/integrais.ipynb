{
 "cells": [
  {
   "cell_type": "markdown",
   "id": "53452168",
   "metadata": {},
   "source": [
    "# Aplicações em Integrais"
   ]
  },
  {
   "cell_type": "markdown",
   "id": "f5c77180",
   "metadata": {},
   "source": []
  },
  {
   "cell_type": "code",
   "execution_count": 30,
   "id": "94718ed5",
   "metadata": {},
   "outputs": [],
   "source": [
    "import numpy as np # Calculo Numericos\n",
    "import pandas as pd\n",
    "import sympy as smp # Limites, Derivadas, Integrais\n",
    "import matplotlib.pyplot as plt # Graficas"
   ]
  },
  {
   "cell_type": "markdown",
   "id": "e55be7c5",
   "metadata": {},
   "source": [
    "- Obter integral"
   ]
  },
  {
   "cell_type": "code",
   "execution_count": 31,
   "id": "865d5dad",
   "metadata": {},
   "outputs": [
    {
     "data": {
      "text/latex": [
       "$\\displaystyle x$"
      ],
      "text/plain": [
       "x"
      ]
     },
     "execution_count": 31,
     "metadata": {},
     "output_type": "execute_result"
    }
   ],
   "source": [
    "x = smp.symbols('x')\n",
    "x"
   ]
  },
  {
   "cell_type": "code",
   "execution_count": 32,
   "id": "5a1e61fa",
   "metadata": {},
   "outputs": [
    {
     "data": {
      "text/latex": [
       "$\\displaystyle 2 x^{2}$"
      ],
      "text/plain": [
       "2*x**2"
      ]
     },
     "execution_count": 32,
     "metadata": {},
     "output_type": "execute_result"
    }
   ],
   "source": [
    "f = 2*x**2\n",
    "f"
   ]
  },
  {
   "cell_type": "code",
   "execution_count": 33,
   "id": "0cb4460a",
   "metadata": {},
   "outputs": [
    {
     "data": {
      "text/latex": [
       "$\\displaystyle \\frac{2 x^{3}}{3}$"
      ],
      "text/plain": [
       "2*x**3/3"
      ]
     },
     "execution_count": 33,
     "metadata": {},
     "output_type": "execute_result"
    }
   ],
   "source": [
    "smp.integrate(f, x) # Obter integral"
   ]
  },
  {
   "cell_type": "markdown",
   "id": "15ccb343",
   "metadata": {},
   "source": [
    "- Soma dos Retangulos"
   ]
  },
  {
   "cell_type": "code",
   "execution_count": 34,
   "id": "d8bd2484",
   "metadata": {},
   "outputs": [],
   "source": [
    "# intervalo \n",
    "minimo = 0\n",
    "maximo = 24 \n",
    "n = 8"
   ]
  },
  {
   "cell_type": "code",
   "execution_count": 35,
   "id": "7faa6045",
   "metadata": {},
   "outputs": [
    {
     "data": {
      "text/plain": [
       "3.0"
      ]
     },
     "execution_count": 35,
     "metadata": {},
     "output_type": "execute_result"
    }
   ],
   "source": [
    "dx = (maximo - minimo) / n\n",
    "dx"
   ]
  },
  {
   "cell_type": "code",
   "execution_count": 36,
   "id": "f886f004",
   "metadata": {},
   "outputs": [],
   "source": [
    "# Transforma a função para ser ultilizada em operações\n",
    "\n",
    "x = smp.symbols('x')\n",
    "f = 2*x**2\n",
    "f_x = smp.lambdify(x, f)"
   ]
  },
  {
   "cell_type": "markdown",
   "id": "2aaf5bf7",
   "metadata": {},
   "source": [
    "- Criando Eixos"
   ]
  },
  {
   "cell_type": "code",
   "execution_count": 37,
   "id": "c69bbb8f",
   "metadata": {},
   "outputs": [
    {
     "data": {
      "text/plain": [
       "array([ 0.,  3.,  6.,  9., 12., 15., 18., 21., 24.])"
      ]
     },
     "execution_count": 37,
     "metadata": {},
     "output_type": "execute_result"
    }
   ],
   "source": [
    "eixo_x = np.arange(minimo, maximo+dx, dx)\n",
    "eixo_x"
   ]
  },
  {
   "cell_type": "code",
   "execution_count": 38,
   "id": "8e781758",
   "metadata": {},
   "outputs": [
    {
     "data": {
      "text/plain": [
       "[np.float64(0.0),\n",
       " np.float64(18.0),\n",
       " np.float64(72.0),\n",
       " np.float64(162.0),\n",
       " np.float64(288.0),\n",
       " np.float64(450.0),\n",
       " np.float64(648.0),\n",
       " np.float64(882.0),\n",
       " np.float64(1152.0)]"
      ]
     },
     "execution_count": 38,
     "metadata": {},
     "output_type": "execute_result"
    }
   ],
   "source": [
    "eixo_y =  [f_x(i) for i in eixo_x]\n",
    "eixo_y"
   ]
  },
  {
   "cell_type": "markdown",
   "id": "f5adfe5e",
   "metadata": {},
   "source": [
    "- Grafico"
   ]
  },
  {
   "cell_type": "code",
   "execution_count": 39,
   "id": "b0637bf8",
   "metadata": {},
   "outputs": [
    {
     "data": {
      "image/png": "[encoded data removed]",
      "text/plain": [
       "<Figure size 640x480 with 1 Axes>"
      ]
     },
     "metadata": {},
     "output_type": "display_data"
    }
   ],
   "source": [
    "plt.bar(eixo_x, eixo_y, width=2)\n",
    "plt.plot(eixo_x, eixo_y, color='k')\n",
    "plt.show()"
   ]
  },
  {
   "cell_type": "code",
   "execution_count": 40,
   "id": "a565cb61",
   "metadata": {},
   "outputs": [
    {
     "data": {
      "text/plain": [
       "[np.float64(0.0),\n",
       " np.float64(54.0),\n",
       " np.float64(216.0),\n",
       " np.float64(486.0),\n",
       " np.float64(864.0),\n",
       " np.float64(1350.0),\n",
       " np.float64(1944.0),\n",
       " np.float64(2646.0),\n",
       " np.float64(3456.0)]"
      ]
     },
     "execution_count": 40,
     "metadata": {},
     "output_type": "execute_result"
    }
   ],
   "source": [
    "fx_dx = [i*dx for i in eixo_y]\n",
    "fx_dx"
   ]
  },
  {
   "cell_type": "code",
   "execution_count": 41,
   "id": "9dddb098",
   "metadata": {},
   "outputs": [
    {
     "data": {
      "text/plain": [
       "np.float64(11016.0)"
      ]
     },
     "execution_count": 41,
     "metadata": {},
     "output_type": "execute_result"
    }
   ],
   "source": [
    "sum(fx_dx)"
   ]
  },
  {
   "cell_type": "markdown",
   "id": "ff536b1c",
   "metadata": {},
   "source": [
    "- Area pela Integral"
   ]
  },
  {
   "cell_type": "code",
   "execution_count": 42,
   "id": "30a85f49",
   "metadata": {},
   "outputs": [
    {
     "ename": "SyntaxError",
     "evalue": "invalid syntax (1441706627.py, line 2)",
     "output_type": "error",
     "traceback": [
      "  \u001b[36mCell\u001b[39m\u001b[36m \u001b[39m\u001b[32mIn[42]\u001b[39m\u001b[32m, line 2\u001b[39m\n\u001b[31m    \u001b[39m\u001b[31mf = 2*x**\u001b[39m\n             ^\n\u001b[31mSyntaxError\u001b[39m\u001b[31m:\u001b[39m invalid syntax\n"
     ]
    }
   ],
   "source": [
    "x = smp.Symbols('x')\n",
    "f = 2*x**\n",
    "funcao_integral = smp.integrate(f, x)\n",
    "funcao_integral"
   ]
  },
  {
   "cell_type": "code",
   "execution_count": null,
   "id": "6e5e49d0",
   "metadata": {},
   "outputs": [],
   "source": []
  },
  {
   "cell_type": "code",
   "execution_count": null,
   "id": "152d4c3c",
   "metadata": {},
   "outputs": [],
   "source": []
  },
  {
   "cell_type": "code",
   "execution_count": null,
   "id": "ac8f6187",
   "metadata": {},
   "outputs": [],
   "source": []
  }
 ],
 "metadata": {
  "kernelspec": {
   "display_name": "Python 3",
   "language": "python",
   "name": "python3"
  },
  "language_info": {
   "codemirror_mode": {
    "name": "ipython",
    "version": 3
   },
   "file_extension": ".py",
   "mimetype": "text/x-python",
   "name": "python",
   "nbconvert_exporter": "python",
   "pygments_lexer": "ipython3",
   "version": "3.13.5"
  }
 },
 "nbformat": 4,
 "nbformat_minor": 5
}
