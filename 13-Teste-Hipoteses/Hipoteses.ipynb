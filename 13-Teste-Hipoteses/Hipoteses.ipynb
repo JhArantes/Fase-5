{
 "cells": [
  {
   "cell_type": "markdown",
   "id": "18e969fe",
   "metadata": {},
   "source": [
    "# Principais Funções para Testes de Hipóteses"
   ]
  },
  {
   "cell_type": "code",
   "execution_count": null,
   "id": "c4df941c",
   "metadata": {},
   "outputs": [],
   "source": [
    "import numpy as np\n",
    "import pandas as pd\n",
    "import seaborn as sns\n",
    "import matplotlib.pyplot as plt"
   ]
  },
  {
   "cell_type": "code",
   "execution_count": 3,
   "id": "8e10baab",
   "metadata": {},
   "outputs": [],
   "source": [
    "from scipy import stats as st"
   ]
  },
  {
   "cell_type": "markdown",
   "id": "825e1875",
   "metadata": {},
   "source": [
    "### Trazendo os Dados"
   ]
  },
  {
   "cell_type": "code",
   "execution_count": 8,
   "id": "80477040",
   "metadata": {},
   "outputs": [
    {
     "data": {
      "text/html": [
       "<div>\n",
       "<style scoped>\n",
       "    .dataframe tbody tr th:only-of-type {\n",
       "        vertical-align: middle;\n",
       "    }\n",
       "\n",
       "    .dataframe tbody tr th {\n",
       "        vertical-align: top;\n",
       "    }\n",
       "\n",
       "    .dataframe thead th {\n",
       "        text-align: right;\n",
       "    }\n",
       "</style>\n",
       "<table border=\"1\" class=\"dataframe\">\n",
       "  <thead>\n",
       "    <tr style=\"text-align: right;\">\n",
       "      <th></th>\n",
       "      <th>group</th>\n",
       "      <th>time</th>\n",
       "      <th>clickedTrue</th>\n",
       "    </tr>\n",
       "  </thead>\n",
       "  <tbody>\n",
       "    <tr>\n",
       "      <th>0</th>\n",
       "      <td>A</td>\n",
       "      <td>2016-06-02 02:17:53</td>\n",
       "      <td>0</td>\n",
       "    </tr>\n",
       "    <tr>\n",
       "      <th>1</th>\n",
       "      <td>A</td>\n",
       "      <td>2016-06-02 03:03:54</td>\n",
       "      <td>0</td>\n",
       "    </tr>\n",
       "    <tr>\n",
       "      <th>2</th>\n",
       "      <td>A</td>\n",
       "      <td>2016-06-02 03:18:56</td>\n",
       "      <td>1</td>\n",
       "    </tr>\n",
       "    <tr>\n",
       "      <th>3</th>\n",
       "      <td>B</td>\n",
       "      <td>2016-06-02 03:23:43</td>\n",
       "      <td>0</td>\n",
       "    </tr>\n",
       "    <tr>\n",
       "      <th>4</th>\n",
       "      <td>A</td>\n",
       "      <td>2016-06-02 04:04:00</td>\n",
       "      <td>0</td>\n",
       "    </tr>\n",
       "  </tbody>\n",
       "</table>\n",
       "</div>"
      ],
      "text/plain": [
       "  group                 time  clickedTrue\n",
       "0     A  2016-06-02 02:17:53            0\n",
       "1     A  2016-06-02 03:03:54            0\n",
       "2     A  2016-06-02 03:18:56            1\n",
       "3     B  2016-06-02 03:23:43            0\n",
       "4     A  2016-06-02 04:04:00            0"
      ]
     },
     "execution_count": 8,
     "metadata": {},
     "output_type": "execute_result"
    }
   ],
   "source": [
    "dados_ab = pd.read_csv(r\"..\\13-Teste-Hipoteses\\Dados\\exampleDataABtest.csv\")\n",
    "dados_ab.head()"
   ]
  },
  {
   "cell_type": "code",
   "execution_count": 10,
   "id": "f4f68f65",
   "metadata": {},
   "outputs": [
    {
     "data": {
      "text/html": [
       "<div>\n",
       "<style scoped>\n",
       "    .dataframe tbody tr th:only-of-type {\n",
       "        vertical-align: middle;\n",
       "    }\n",
       "\n",
       "    .dataframe tbody tr th {\n",
       "        vertical-align: top;\n",
       "    }\n",
       "\n",
       "    .dataframe thead th {\n",
       "        text-align: right;\n",
       "    }\n",
       "</style>\n",
       "<table border=\"1\" class=\"dataframe\">\n",
       "  <thead>\n",
       "    <tr style=\"text-align: right;\">\n",
       "      <th></th>\n",
       "      <th>id</th>\n",
       "      <th>response_status</th>\n",
       "      <th>how_long_listening</th>\n",
       "      <th>age</th>\n",
       "      <th>nps_score</th>\n",
       "      <th>gender</th>\n",
       "    </tr>\n",
       "  </thead>\n",
       "  <tbody>\n",
       "    <tr>\n",
       "      <th>0</th>\n",
       "      <td>11706300</td>\n",
       "      <td>Complete</td>\n",
       "      <td>Less than 6 months</td>\n",
       "      <td>25-34</td>\n",
       "      <td>10.0</td>\n",
       "      <td>Female</td>\n",
       "    </tr>\n",
       "    <tr>\n",
       "      <th>1</th>\n",
       "      <td>11706302</td>\n",
       "      <td>Complete</td>\n",
       "      <td>1 year to less than 3 years</td>\n",
       "      <td>25-34</td>\n",
       "      <td>10.0</td>\n",
       "      <td>Female</td>\n",
       "    </tr>\n",
       "    <tr>\n",
       "      <th>2</th>\n",
       "      <td>11706307</td>\n",
       "      <td>Complete</td>\n",
       "      <td>6 months to less than a year</td>\n",
       "      <td>35-44</td>\n",
       "      <td>10.0</td>\n",
       "      <td>Female</td>\n",
       "    </tr>\n",
       "    <tr>\n",
       "      <th>3</th>\n",
       "      <td>11706312</td>\n",
       "      <td>Complete</td>\n",
       "      <td>Less than 6 months</td>\n",
       "      <td>35-44</td>\n",
       "      <td>10.0</td>\n",
       "      <td>Female</td>\n",
       "    </tr>\n",
       "    <tr>\n",
       "      <th>4</th>\n",
       "      <td>11706316</td>\n",
       "      <td>Complete</td>\n",
       "      <td>6 months to less than a year</td>\n",
       "      <td>25-34</td>\n",
       "      <td>10.0</td>\n",
       "      <td>Male</td>\n",
       "    </tr>\n",
       "  </tbody>\n",
       "</table>\n",
       "</div>"
      ],
      "text/plain": [
       "         id response_status            how_long_listening    age  nps_score  \\\n",
       "0  11706300        Complete            Less than 6 months  25-34       10.0   \n",
       "1  11706302        Complete   1 year to less than 3 years  25-34       10.0   \n",
       "2  11706307        Complete  6 months to less than a year  35-44       10.0   \n",
       "3  11706312        Complete            Less than 6 months  35-44       10.0   \n",
       "4  11706316        Complete  6 months to less than a year  25-34       10.0   \n",
       "\n",
       "   gender  \n",
       "0  Female  \n",
       "1  Female  \n",
       "2  Female  \n",
       "3  Female  \n",
       "4    Male  "
      ]
     },
     "execution_count": 10,
     "metadata": {},
     "output_type": "execute_result"
    }
   ],
   "source": [
    "dados_nps = pd.read_csv(r\"..\\13-Teste-Hipoteses\\Dados\\nps_example.csv\", sep=\";\")\n",
    "dados_nps.head()"
   ]
  },
  {
   "cell_type": "markdown",
   "id": "cafbfa16",
   "metadata": {},
   "source": [
    "# Teste t"
   ]
  },
  {
   "cell_type": "markdown",
   "id": "2dc72259",
   "metadata": {},
   "source": [
    "- Comparar os Grupos"
   ]
  },
  {
   "cell_type": "code",
   "execution_count": 15,
   "id": "5e28e3c7",
   "metadata": {},
   "outputs": [
    {
     "data": {
      "text/html": [
       "<div>\n",
       "<style scoped>\n",
       "    .dataframe tbody tr th:only-of-type {\n",
       "        vertical-align: middle;\n",
       "    }\n",
       "\n",
       "    .dataframe tbody tr th {\n",
       "        vertical-align: top;\n",
       "    }\n",
       "\n",
       "    .dataframe thead th {\n",
       "        text-align: right;\n",
       "    }\n",
       "</style>\n",
       "<table border=\"1\" class=\"dataframe\">\n",
       "  <thead>\n",
       "    <tr style=\"text-align: right;\">\n",
       "      <th></th>\n",
       "      <th>media_cliques</th>\n",
       "      <th>dp_cliques</th>\n",
       "      <th>n</th>\n",
       "    </tr>\n",
       "    <tr>\n",
       "      <th>group</th>\n",
       "      <th></th>\n",
       "      <th></th>\n",
       "      <th></th>\n",
       "    </tr>\n",
       "  </thead>\n",
       "  <tbody>\n",
       "    <tr>\n",
       "      <th>A</th>\n",
       "      <td>0.04</td>\n",
       "      <td>0.196155</td>\n",
       "      <td>500</td>\n",
       "    </tr>\n",
       "    <tr>\n",
       "      <th>B</th>\n",
       "      <td>0.08</td>\n",
       "      <td>0.271565</td>\n",
       "      <td>500</td>\n",
       "    </tr>\n",
       "  </tbody>\n",
       "</table>\n",
       "</div>"
      ],
      "text/plain": [
       "       media_cliques  dp_cliques    n\n",
       "group                                \n",
       "A               0.04    0.196155  500\n",
       "B               0.08    0.271565  500"
      ]
     },
     "execution_count": 15,
     "metadata": {},
     "output_type": "execute_result"
    }
   ],
   "source": [
    "dados_ab.groupby('group') \\\n",
    "    .agg(media_cliques = pd.NamedAgg('clickedTrue', 'mean'),\n",
    "         dp_cliques = pd.NamedAgg('clickedTrue', 'std'),\n",
    "         n = pd.NamedAgg('clickedTrue', 'count'))"
   ]
  },
  {
   "cell_type": "code",
   "execution_count": null,
   "id": "602320d9",
   "metadata": {},
   "outputs": [],
   "source": []
  }
 ],
 "metadata": {
  "kernelspec": {
   "display_name": "Python 3",
   "language": "python",
   "name": "python3"
  },
  "language_info": {
   "codemirror_mode": {
    "name": "ipython",
    "version": 3
   },
   "file_extension": ".py",
   "mimetype": "text/x-python",
   "name": "python",
   "nbconvert_exporter": "python",
   "pygments_lexer": "ipython3",
   "version": "3.13.5"
  }
 },
 "nbformat": 4,
 "nbformat_minor": 5
}
