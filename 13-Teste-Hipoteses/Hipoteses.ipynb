{
 "cells": [
  {
   "cell_type": "markdown",
   "id": "18e969fe",
   "metadata": {},
   "source": [
    "# Principais Funções para Testes de Hipóteses"
   ]
  },
  {
   "cell_type": "code",
   "execution_count": 1,
   "id": "c4df941c",
   "metadata": {},
   "outputs": [],
   "source": [
    "import numpy as np\n",
    "import pandas as pd\n",
    "import seaborn as sns\n",
    "import matplotlib.pyplot as plt"
   ]
  },
  {
   "cell_type": "code",
   "execution_count": 2,
   "id": "8e10baab",
   "metadata": {},
   "outputs": [],
   "source": [
    "from scipy import stats as st"
   ]
  },
  {
   "cell_type": "markdown",
   "id": "825e1875",
   "metadata": {},
   "source": [
    "### Trazendo os Dados"
   ]
  },
  {
   "cell_type": "code",
   "execution_count": 3,
   "id": "80477040",
   "metadata": {},
   "outputs": [
    {
     "data": {
      "text/html": [
       "<div>\n",
       "<style scoped>\n",
       "    .dataframe tbody tr th:only-of-type {\n",
       "        vertical-align: middle;\n",
       "    }\n",
       "\n",
       "    .dataframe tbody tr th {\n",
       "        vertical-align: top;\n",
       "    }\n",
       "\n",
       "    .dataframe thead th {\n",
       "        text-align: right;\n",
       "    }\n",
       "</style>\n",
       "<table border=\"1\" class=\"dataframe\">\n",
       "  <thead>\n",
       "    <tr style=\"text-align: right;\">\n",
       "      <th></th>\n",
       "      <th>group</th>\n",
       "      <th>time</th>\n",
       "      <th>clickedTrue</th>\n",
       "    </tr>\n",
       "  </thead>\n",
       "  <tbody>\n",
       "    <tr>\n",
       "      <th>0</th>\n",
       "      <td>A</td>\n",
       "      <td>2016-06-02 02:17:53</td>\n",
       "      <td>0</td>\n",
       "    </tr>\n",
       "    <tr>\n",
       "      <th>1</th>\n",
       "      <td>A</td>\n",
       "      <td>2016-06-02 03:03:54</td>\n",
       "      <td>0</td>\n",
       "    </tr>\n",
       "    <tr>\n",
       "      <th>2</th>\n",
       "      <td>A</td>\n",
       "      <td>2016-06-02 03:18:56</td>\n",
       "      <td>1</td>\n",
       "    </tr>\n",
       "    <tr>\n",
       "      <th>3</th>\n",
       "      <td>B</td>\n",
       "      <td>2016-06-02 03:23:43</td>\n",
       "      <td>0</td>\n",
       "    </tr>\n",
       "    <tr>\n",
       "      <th>4</th>\n",
       "      <td>A</td>\n",
       "      <td>2016-06-02 04:04:00</td>\n",
       "      <td>0</td>\n",
       "    </tr>\n",
       "  </tbody>\n",
       "</table>\n",
       "</div>"
      ],
      "text/plain": [
       "  group                 time  clickedTrue\n",
       "0     A  2016-06-02 02:17:53            0\n",
       "1     A  2016-06-02 03:03:54            0\n",
       "2     A  2016-06-02 03:18:56            1\n",
       "3     B  2016-06-02 03:23:43            0\n",
       "4     A  2016-06-02 04:04:00            0"
      ]
     },
     "execution_count": 3,
     "metadata": {},
     "output_type": "execute_result"
    }
   ],
   "source": [
    "dados_ab = pd.read_csv(r\"..\\13-Teste-Hipoteses\\Dados\\exampleDataABtest.csv\")\n",
    "dados_ab.head()"
   ]
  },
  {
   "cell_type": "code",
   "execution_count": 4,
   "id": "f4f68f65",
   "metadata": {},
   "outputs": [
    {
     "data": {
      "text/html": [
       "<div>\n",
       "<style scoped>\n",
       "    .dataframe tbody tr th:only-of-type {\n",
       "        vertical-align: middle;\n",
       "    }\n",
       "\n",
       "    .dataframe tbody tr th {\n",
       "        vertical-align: top;\n",
       "    }\n",
       "\n",
       "    .dataframe thead th {\n",
       "        text-align: right;\n",
       "    }\n",
       "</style>\n",
       "<table border=\"1\" class=\"dataframe\">\n",
       "  <thead>\n",
       "    <tr style=\"text-align: right;\">\n",
       "      <th></th>\n",
       "      <th>id</th>\n",
       "      <th>response_status</th>\n",
       "      <th>how_long_listening</th>\n",
       "      <th>age</th>\n",
       "      <th>nps_score</th>\n",
       "      <th>gender</th>\n",
       "    </tr>\n",
       "  </thead>\n",
       "  <tbody>\n",
       "    <tr>\n",
       "      <th>0</th>\n",
       "      <td>11706300</td>\n",
       "      <td>Complete</td>\n",
       "      <td>Less than 6 months</td>\n",
       "      <td>25-34</td>\n",
       "      <td>10.0</td>\n",
       "      <td>Female</td>\n",
       "    </tr>\n",
       "    <tr>\n",
       "      <th>1</th>\n",
       "      <td>11706302</td>\n",
       "      <td>Complete</td>\n",
       "      <td>1 year to less than 3 years</td>\n",
       "      <td>25-34</td>\n",
       "      <td>10.0</td>\n",
       "      <td>Female</td>\n",
       "    </tr>\n",
       "    <tr>\n",
       "      <th>2</th>\n",
       "      <td>11706307</td>\n",
       "      <td>Complete</td>\n",
       "      <td>6 months to less than a year</td>\n",
       "      <td>35-44</td>\n",
       "      <td>10.0</td>\n",
       "      <td>Female</td>\n",
       "    </tr>\n",
       "    <tr>\n",
       "      <th>3</th>\n",
       "      <td>11706312</td>\n",
       "      <td>Complete</td>\n",
       "      <td>Less than 6 months</td>\n",
       "      <td>35-44</td>\n",
       "      <td>10.0</td>\n",
       "      <td>Female</td>\n",
       "    </tr>\n",
       "    <tr>\n",
       "      <th>4</th>\n",
       "      <td>11706316</td>\n",
       "      <td>Complete</td>\n",
       "      <td>6 months to less than a year</td>\n",
       "      <td>25-34</td>\n",
       "      <td>10.0</td>\n",
       "      <td>Male</td>\n",
       "    </tr>\n",
       "  </tbody>\n",
       "</table>\n",
       "</div>"
      ],
      "text/plain": [
       "         id response_status            how_long_listening    age  nps_score  \\\n",
       "0  11706300        Complete            Less than 6 months  25-34       10.0   \n",
       "1  11706302        Complete   1 year to less than 3 years  25-34       10.0   \n",
       "2  11706307        Complete  6 months to less than a year  35-44       10.0   \n",
       "3  11706312        Complete            Less than 6 months  35-44       10.0   \n",
       "4  11706316        Complete  6 months to less than a year  25-34       10.0   \n",
       "\n",
       "   gender  \n",
       "0  Female  \n",
       "1  Female  \n",
       "2  Female  \n",
       "3  Female  \n",
       "4    Male  "
      ]
     },
     "execution_count": 4,
     "metadata": {},
     "output_type": "execute_result"
    }
   ],
   "source": [
    "dados_nps = pd.read_csv(r\"..\\13-Teste-Hipoteses\\Dados\\nps_example.csv\", sep=\";\")\n",
    "dados_nps.head()"
   ]
  },
  {
   "cell_type": "markdown",
   "id": "cafbfa16",
   "metadata": {},
   "source": [
    "# Exemplo Teste t\n",
    "\n",
    "Comparação do número de cliques quanto aos sites A e B"
   ]
  },
  {
   "cell_type": "markdown",
   "id": "2dc72259",
   "metadata": {},
   "source": [
    "- Comparar os Grupos"
   ]
  },
  {
   "cell_type": "code",
   "execution_count": 5,
   "id": "5e28e3c7",
   "metadata": {},
   "outputs": [
    {
     "data": {
      "text/html": [
       "<div>\n",
       "<style scoped>\n",
       "    .dataframe tbody tr th:only-of-type {\n",
       "        vertical-align: middle;\n",
       "    }\n",
       "\n",
       "    .dataframe tbody tr th {\n",
       "        vertical-align: top;\n",
       "    }\n",
       "\n",
       "    .dataframe thead th {\n",
       "        text-align: right;\n",
       "    }\n",
       "</style>\n",
       "<table border=\"1\" class=\"dataframe\">\n",
       "  <thead>\n",
       "    <tr style=\"text-align: right;\">\n",
       "      <th></th>\n",
       "      <th>media_cliques</th>\n",
       "      <th>dp_cliques</th>\n",
       "      <th>n</th>\n",
       "    </tr>\n",
       "    <tr>\n",
       "      <th>group</th>\n",
       "      <th></th>\n",
       "      <th></th>\n",
       "      <th></th>\n",
       "    </tr>\n",
       "  </thead>\n",
       "  <tbody>\n",
       "    <tr>\n",
       "      <th>A</th>\n",
       "      <td>0.04</td>\n",
       "      <td>0.196155</td>\n",
       "      <td>500</td>\n",
       "    </tr>\n",
       "    <tr>\n",
       "      <th>B</th>\n",
       "      <td>0.08</td>\n",
       "      <td>0.271565</td>\n",
       "      <td>500</td>\n",
       "    </tr>\n",
       "  </tbody>\n",
       "</table>\n",
       "</div>"
      ],
      "text/plain": [
       "       media_cliques  dp_cliques    n\n",
       "group                                \n",
       "A               0.04    0.196155  500\n",
       "B               0.08    0.271565  500"
      ]
     },
     "execution_count": 5,
     "metadata": {},
     "output_type": "execute_result"
    }
   ],
   "source": [
    "dados_ab.groupby('group') \\\n",
    "    .agg(media_cliques = pd.NamedAgg('clickedTrue', 'mean'),\n",
    "         dp_cliques = pd.NamedAgg('clickedTrue', 'std'),\n",
    "         n = pd.NamedAgg('clickedTrue', 'count'))"
   ]
  },
  {
   "cell_type": "code",
   "execution_count": 7,
   "id": "602320d9",
   "metadata": {},
   "outputs": [],
   "source": [
    "grA = dados_ab[dados_ab['group'] == 'A']['clickedTrue']\n",
    "grB = dados_ab[dados_ab['group'] == 'B']['clickedTrue']\n"
   ]
  },
  {
   "cell_type": "code",
   "execution_count": 9,
   "id": "b2458c58",
   "metadata": {},
   "outputs": [
    {
     "data": {
      "text/plain": [
       "TtestResult(statistic=np.float64(-2.669938469060931), pvalue=np.float64(0.007709783987515948), df=np.float64(998.0))"
      ]
     },
     "execution_count": 9,
     "metadata": {},
     "output_type": "execute_result"
    }
   ],
   "source": [
    "st.ttest_ind(grA, grB, alternative='two-sided', )"
   ]
  },
  {
   "cell_type": "markdown",
   "id": "f95da991",
   "metadata": {},
   "source": [
    "- se o p-valor for menor que 0.05, rejeito a hipótese nula\n",
    "    - p_value -> 0.007\n"
   ]
  },
  {
   "cell_type": "code",
   "execution_count": null,
   "id": "974756ed",
   "metadata": {},
   "outputs": [
    {
     "ename": "NameError",
     "evalue": "name 'pg' is not defined",
     "output_type": "error",
     "traceback": [
      "\u001b[31m---------------------------------------------------------------------------\u001b[39m",
      "\u001b[31mNameError\u001b[39m                                 Traceback (most recent call last)",
      "\u001b[36mCell\u001b[39m\u001b[36m \u001b[39m\u001b[32mIn[10]\u001b[39m\u001b[32m, line 1\u001b[39m\n\u001b[32m----> \u001b[39m\u001b[32m1\u001b[39m \u001b[43mpg\u001b[49m.ttest(grA, grB, alternative=\u001b[33m'\u001b[39m\u001b[33mtwo-sided\u001b[39m\u001b[33m'\u001b[39m, confidence=\u001b[32m0.95\u001b[39m)\n",
      "\u001b[31mNameError\u001b[39m: name 'pg' is not defined"
     ]
    }
   ],
   "source": [
    "# Pingouin\n",
    "pg.ttest(grA, grB, alternative='two-sided', confidence=0.95)"
   ]
  },
  {
   "cell_type": "markdown",
   "id": "1cffbc62",
   "metadata": {},
   "source": [
    "# Exemplo Teste F\n",
    "\n",
    "Comparar os valores de NPS quanto as faixas etárias"
   ]
  },
  {
   "cell_type": "markdown",
   "id": "23c132fb",
   "metadata": {},
   "source": [
    "- Verificar questionários respondidos completamente"
   ]
  },
  {
   "cell_type": "code",
   "execution_count": 12,
   "id": "0eb63623",
   "metadata": {},
   "outputs": [
    {
     "data": {
      "text/html": [
       "<div>\n",
       "<style scoped>\n",
       "    .dataframe tbody tr th:only-of-type {\n",
       "        vertical-align: middle;\n",
       "    }\n",
       "\n",
       "    .dataframe tbody tr th {\n",
       "        vertical-align: top;\n",
       "    }\n",
       "\n",
       "    .dataframe thead th {\n",
       "        text-align: right;\n",
       "    }\n",
       "</style>\n",
       "<table border=\"1\" class=\"dataframe\">\n",
       "  <thead>\n",
       "    <tr style=\"text-align: right;\">\n",
       "      <th></th>\n",
       "      <th>response_status</th>\n",
       "      <th>n</th>\n",
       "    </tr>\n",
       "  </thead>\n",
       "  <tbody>\n",
       "    <tr>\n",
       "      <th>0</th>\n",
       "      <td>Complete</td>\n",
       "      <td>2281</td>\n",
       "    </tr>\n",
       "    <tr>\n",
       "      <th>1</th>\n",
       "      <td>Incomplete</td>\n",
       "      <td>265</td>\n",
       "    </tr>\n",
       "    <tr>\n",
       "      <th>2</th>\n",
       "      <td>Terminated</td>\n",
       "      <td>33</td>\n",
       "    </tr>\n",
       "  </tbody>\n",
       "</table>\n",
       "</div>"
      ],
      "text/plain": [
       "  response_status     n\n",
       "0        Complete  2281\n",
       "1      Incomplete   265\n",
       "2      Terminated    33"
      ]
     },
     "execution_count": 12,
     "metadata": {},
     "output_type": "execute_result"
    }
   ],
   "source": [
    "dados_nps.groupby('response_status') \\\n",
    "    .size() \\\n",
    "    .to_frame('n') \\\n",
    "    .reset_index()"
   ]
  },
  {
   "cell_type": "code",
   "execution_count": 15,
   "id": "97f7455a",
   "metadata": {},
   "outputs": [
    {
     "data": {
      "text/html": [
       "<div>\n",
       "<style scoped>\n",
       "    .dataframe tbody tr th:only-of-type {\n",
       "        vertical-align: middle;\n",
       "    }\n",
       "\n",
       "    .dataframe tbody tr th {\n",
       "        vertical-align: top;\n",
       "    }\n",
       "\n",
       "    .dataframe thead th {\n",
       "        text-align: right;\n",
       "    }\n",
       "</style>\n",
       "<table border=\"1\" class=\"dataframe\">\n",
       "  <thead>\n",
       "    <tr style=\"text-align: right;\">\n",
       "      <th></th>\n",
       "      <th>id</th>\n",
       "      <th>response_status</th>\n",
       "      <th>how_long_listening</th>\n",
       "      <th>age</th>\n",
       "      <th>nps_score</th>\n",
       "      <th>gender</th>\n",
       "    </tr>\n",
       "  </thead>\n",
       "  <tbody>\n",
       "    <tr>\n",
       "      <th>17</th>\n",
       "      <td>11706467</td>\n",
       "      <td>Incomplete</td>\n",
       "      <td>Less than 6 months</td>\n",
       "      <td>18-24</td>\n",
       "      <td>NaN</td>\n",
       "      <td>NaN</td>\n",
       "    </tr>\n",
       "    <tr>\n",
       "      <th>31</th>\n",
       "      <td>11706938</td>\n",
       "      <td>Incomplete</td>\n",
       "      <td>1 year to less than 3 years</td>\n",
       "      <td>25-34</td>\n",
       "      <td>NaN</td>\n",
       "      <td>NaN</td>\n",
       "    </tr>\n",
       "    <tr>\n",
       "      <th>32</th>\n",
       "      <td>11706979</td>\n",
       "      <td>Incomplete</td>\n",
       "      <td>6 months to less than a year</td>\n",
       "      <td>25-34</td>\n",
       "      <td>NaN</td>\n",
       "      <td>NaN</td>\n",
       "    </tr>\n",
       "    <tr>\n",
       "      <th>43</th>\n",
       "      <td>11707426</td>\n",
       "      <td>Incomplete</td>\n",
       "      <td>6 months to less than a year</td>\n",
       "      <td>25-34</td>\n",
       "      <td>NaN</td>\n",
       "      <td>NaN</td>\n",
       "    </tr>\n",
       "    <tr>\n",
       "      <th>48</th>\n",
       "      <td>11707719</td>\n",
       "      <td>Incomplete</td>\n",
       "      <td>3 years to less than 5 years</td>\n",
       "      <td>35-44</td>\n",
       "      <td>NaN</td>\n",
       "      <td>NaN</td>\n",
       "    </tr>\n",
       "    <tr>\n",
       "      <th>...</th>\n",
       "      <td>...</td>\n",
       "      <td>...</td>\n",
       "      <td>...</td>\n",
       "      <td>...</td>\n",
       "      <td>...</td>\n",
       "      <td>...</td>\n",
       "    </tr>\n",
       "    <tr>\n",
       "      <th>2546</th>\n",
       "      <td>13093216</td>\n",
       "      <td>Incomplete</td>\n",
       "      <td>6 months to less than a year</td>\n",
       "      <td>35-44</td>\n",
       "      <td>NaN</td>\n",
       "      <td>NaN</td>\n",
       "    </tr>\n",
       "    <tr>\n",
       "      <th>2556</th>\n",
       "      <td>13278063</td>\n",
       "      <td>Incomplete</td>\n",
       "      <td>3 years to less than 5 years</td>\n",
       "      <td>18-24</td>\n",
       "      <td>NaN</td>\n",
       "      <td>NaN</td>\n",
       "    </tr>\n",
       "    <tr>\n",
       "      <th>2570</th>\n",
       "      <td>13565327</td>\n",
       "      <td>Complete</td>\n",
       "      <td>1 year to less than 3 years</td>\n",
       "      <td>45-54</td>\n",
       "      <td>NaN</td>\n",
       "      <td>Female</td>\n",
       "    </tr>\n",
       "    <tr>\n",
       "      <th>2572</th>\n",
       "      <td>13601847</td>\n",
       "      <td>Incomplete</td>\n",
       "      <td>3 years to less than 5 years</td>\n",
       "      <td>25-34</td>\n",
       "      <td>NaN</td>\n",
       "      <td>NaN</td>\n",
       "    </tr>\n",
       "    <tr>\n",
       "      <th>2575</th>\n",
       "      <td>13652344</td>\n",
       "      <td>Incomplete</td>\n",
       "      <td>1 year to less than 3 years</td>\n",
       "      <td>35-44</td>\n",
       "      <td>NaN</td>\n",
       "      <td>NaN</td>\n",
       "    </tr>\n",
       "  </tbody>\n",
       "</table>\n",
       "<p>298 rows × 6 columns</p>\n",
       "</div>"
      ],
      "text/plain": [
       "            id response_status            how_long_listening    age  \\\n",
       "17    11706467      Incomplete            Less than 6 months  18-24   \n",
       "31    11706938      Incomplete   1 year to less than 3 years  25-34   \n",
       "32    11706979      Incomplete  6 months to less than a year  25-34   \n",
       "43    11707426      Incomplete  6 months to less than a year  25-34   \n",
       "48    11707719      Incomplete  3 years to less than 5 years  35-44   \n",
       "...        ...             ...                           ...    ...   \n",
       "2546  13093216      Incomplete  6 months to less than a year  35-44   \n",
       "2556  13278063      Incomplete  3 years to less than 5 years  18-24   \n",
       "2570  13565327        Complete   1 year to less than 3 years  45-54   \n",
       "2572  13601847      Incomplete  3 years to less than 5 years  25-34   \n",
       "2575  13652344      Incomplete   1 year to less than 3 years  35-44   \n",
       "\n",
       "      nps_score  gender  \n",
       "17          NaN     NaN  \n",
       "31          NaN     NaN  \n",
       "32          NaN     NaN  \n",
       "43          NaN     NaN  \n",
       "48          NaN     NaN  \n",
       "...         ...     ...  \n",
       "2546        NaN     NaN  \n",
       "2556        NaN     NaN  \n",
       "2570        NaN  Female  \n",
       "2572        NaN     NaN  \n",
       "2575        NaN     NaN  \n",
       "\n",
       "[298 rows x 6 columns]"
      ]
     },
     "execution_count": 15,
     "metadata": {},
     "output_type": "execute_result"
    }
   ],
   "source": [
    "dados_nps[dados_nps['nps_score'].isnull()]"
   ]
  },
  {
   "cell_type": "code",
   "execution_count": 17,
   "id": "09b1a756",
   "metadata": {},
   "outputs": [
    {
     "data": {
      "text/html": [
       "<div>\n",
       "<style scoped>\n",
       "    .dataframe tbody tr th:only-of-type {\n",
       "        vertical-align: middle;\n",
       "    }\n",
       "\n",
       "    .dataframe tbody tr th {\n",
       "        vertical-align: top;\n",
       "    }\n",
       "\n",
       "    .dataframe thead th {\n",
       "        text-align: right;\n",
       "    }\n",
       "</style>\n",
       "<table border=\"1\" class=\"dataframe\">\n",
       "  <thead>\n",
       "    <tr style=\"text-align: right;\">\n",
       "      <th></th>\n",
       "      <th>id</th>\n",
       "      <th>response_status</th>\n",
       "      <th>how_long_listening</th>\n",
       "      <th>age</th>\n",
       "      <th>nps_score</th>\n",
       "      <th>gender</th>\n",
       "    </tr>\n",
       "  </thead>\n",
       "  <tbody>\n",
       "    <tr>\n",
       "      <th>0</th>\n",
       "      <td>11706300</td>\n",
       "      <td>Complete</td>\n",
       "      <td>Less than 6 months</td>\n",
       "      <td>25-34</td>\n",
       "      <td>10.0</td>\n",
       "      <td>Female</td>\n",
       "    </tr>\n",
       "    <tr>\n",
       "      <th>1</th>\n",
       "      <td>11706302</td>\n",
       "      <td>Complete</td>\n",
       "      <td>1 year to less than 3 years</td>\n",
       "      <td>25-34</td>\n",
       "      <td>10.0</td>\n",
       "      <td>Female</td>\n",
       "    </tr>\n",
       "    <tr>\n",
       "      <th>2</th>\n",
       "      <td>11706307</td>\n",
       "      <td>Complete</td>\n",
       "      <td>6 months to less than a year</td>\n",
       "      <td>35-44</td>\n",
       "      <td>10.0</td>\n",
       "      <td>Female</td>\n",
       "    </tr>\n",
       "    <tr>\n",
       "      <th>3</th>\n",
       "      <td>11706312</td>\n",
       "      <td>Complete</td>\n",
       "      <td>Less than 6 months</td>\n",
       "      <td>35-44</td>\n",
       "      <td>10.0</td>\n",
       "      <td>Female</td>\n",
       "    </tr>\n",
       "    <tr>\n",
       "      <th>4</th>\n",
       "      <td>11706316</td>\n",
       "      <td>Complete</td>\n",
       "      <td>6 months to less than a year</td>\n",
       "      <td>25-34</td>\n",
       "      <td>10.0</td>\n",
       "      <td>Male</td>\n",
       "    </tr>\n",
       "  </tbody>\n",
       "</table>\n",
       "</div>"
      ],
      "text/plain": [
       "         id response_status            how_long_listening    age  nps_score  \\\n",
       "0  11706300        Complete            Less than 6 months  25-34       10.0   \n",
       "1  11706302        Complete   1 year to less than 3 years  25-34       10.0   \n",
       "2  11706307        Complete  6 months to less than a year  35-44       10.0   \n",
       "3  11706312        Complete            Less than 6 months  35-44       10.0   \n",
       "4  11706316        Complete  6 months to less than a year  25-34       10.0   \n",
       "\n",
       "   gender  \n",
       "0  Female  \n",
       "1  Female  \n",
       "2  Female  \n",
       "3  Female  \n",
       "4    Male  "
      ]
     },
     "execution_count": 17,
     "metadata": {},
     "output_type": "execute_result"
    }
   ],
   "source": [
    "dados_nps_filtrados = dados_nps[(dados_nps['response_status'] == 'Complete') & (dados_nps['nps_score'].notna())]\n",
    "dados_nps_filtrados.head()"
   ]
  },
  {
   "cell_type": "code",
   "execution_count": 18,
   "id": "8339b69b",
   "metadata": {},
   "outputs": [
    {
     "data": {
      "text/html": [
       "<div>\n",
       "<style scoped>\n",
       "    .dataframe tbody tr th:only-of-type {\n",
       "        vertical-align: middle;\n",
       "    }\n",
       "\n",
       "    .dataframe tbody tr th {\n",
       "        vertical-align: top;\n",
       "    }\n",
       "\n",
       "    .dataframe thead th {\n",
       "        text-align: right;\n",
       "    }\n",
       "</style>\n",
       "<table border=\"1\" class=\"dataframe\">\n",
       "  <thead>\n",
       "    <tr style=\"text-align: right;\">\n",
       "      <th></th>\n",
       "      <th>age</th>\n",
       "      <th>media_nps</th>\n",
       "      <th>dp_nps</th>\n",
       "      <th>n</th>\n",
       "    </tr>\n",
       "  </thead>\n",
       "  <tbody>\n",
       "    <tr>\n",
       "      <th>0</th>\n",
       "      <td>18-24</td>\n",
       "      <td>9.464539</td>\n",
       "      <td>1.116275</td>\n",
       "      <td>282</td>\n",
       "    </tr>\n",
       "    <tr>\n",
       "      <th>1</th>\n",
       "      <td>25-34</td>\n",
       "      <td>9.694828</td>\n",
       "      <td>0.957639</td>\n",
       "      <td>580</td>\n",
       "    </tr>\n",
       "    <tr>\n",
       "      <th>2</th>\n",
       "      <td>35-44</td>\n",
       "      <td>9.707612</td>\n",
       "      <td>0.979501</td>\n",
       "      <td>578</td>\n",
       "    </tr>\n",
       "    <tr>\n",
       "      <th>3</th>\n",
       "      <td>45-54</td>\n",
       "      <td>9.719039</td>\n",
       "      <td>0.928254</td>\n",
       "      <td>541</td>\n",
       "    </tr>\n",
       "    <tr>\n",
       "      <th>4</th>\n",
       "      <td>55-64</td>\n",
       "      <td>9.733871</td>\n",
       "      <td>0.923020</td>\n",
       "      <td>248</td>\n",
       "    </tr>\n",
       "    <tr>\n",
       "      <th>5</th>\n",
       "      <td>65-74</td>\n",
       "      <td>9.423077</td>\n",
       "      <td>1.361560</td>\n",
       "      <td>26</td>\n",
       "    </tr>\n",
       "    <tr>\n",
       "      <th>6</th>\n",
       "      <td>75+</td>\n",
       "      <td>8.000000</td>\n",
       "      <td>0.000000</td>\n",
       "      <td>2</td>\n",
       "    </tr>\n",
       "  </tbody>\n",
       "</table>\n",
       "</div>"
      ],
      "text/plain": [
       "     age  media_nps    dp_nps    n\n",
       "0  18-24   9.464539  1.116275  282\n",
       "1  25-34   9.694828  0.957639  580\n",
       "2  35-44   9.707612  0.979501  578\n",
       "3  45-54   9.719039  0.928254  541\n",
       "4  55-64   9.733871  0.923020  248\n",
       "5  65-74   9.423077  1.361560   26\n",
       "6    75+   8.000000  0.000000    2"
      ]
     },
     "execution_count": 18,
     "metadata": {},
     "output_type": "execute_result"
    }
   ],
   "source": [
    "dados_nps_filtrados.groupby('age') \\\n",
    "    .agg(media_nps = pd.NamedAgg('nps_score', 'mean'),\n",
    "         dp_nps = pd.NamedAgg('nps_score', 'std'),\n",
    "         n = pd.NamedAgg('nps_score', 'size')) \\\n",
    "    .reset_index()"
   ]
  },
  {
   "cell_type": "code",
   "execution_count": 19,
   "id": "99bad2df",
   "metadata": {},
   "outputs": [],
   "source": [
    "dados_nps_filtrados_aj = dados_nps_filtrados[dados_nps_filtrados['age'] != '75+']"
   ]
  },
  {
   "cell_type": "code",
   "execution_count": 20,
   "id": "f3d1b0d9",
   "metadata": {},
   "outputs": [
    {
     "data": {
      "text/html": [
       "<div>\n",
       "<style scoped>\n",
       "    .dataframe tbody tr th:only-of-type {\n",
       "        vertical-align: middle;\n",
       "    }\n",
       "\n",
       "    .dataframe tbody tr th {\n",
       "        vertical-align: top;\n",
       "    }\n",
       "\n",
       "    .dataframe thead th {\n",
       "        text-align: right;\n",
       "    }\n",
       "</style>\n",
       "<table border=\"1\" class=\"dataframe\">\n",
       "  <thead>\n",
       "    <tr style=\"text-align: right;\">\n",
       "      <th></th>\n",
       "      <th>age</th>\n",
       "      <th>media_nps</th>\n",
       "      <th>dp_nps</th>\n",
       "      <th>n</th>\n",
       "    </tr>\n",
       "  </thead>\n",
       "  <tbody>\n",
       "    <tr>\n",
       "      <th>0</th>\n",
       "      <td>18-24</td>\n",
       "      <td>9.464539</td>\n",
       "      <td>1.116275</td>\n",
       "      <td>282</td>\n",
       "    </tr>\n",
       "    <tr>\n",
       "      <th>1</th>\n",
       "      <td>25-34</td>\n",
       "      <td>9.694828</td>\n",
       "      <td>0.957639</td>\n",
       "      <td>580</td>\n",
       "    </tr>\n",
       "    <tr>\n",
       "      <th>2</th>\n",
       "      <td>35-44</td>\n",
       "      <td>9.707612</td>\n",
       "      <td>0.979501</td>\n",
       "      <td>578</td>\n",
       "    </tr>\n",
       "    <tr>\n",
       "      <th>3</th>\n",
       "      <td>45-54</td>\n",
       "      <td>9.719039</td>\n",
       "      <td>0.928254</td>\n",
       "      <td>541</td>\n",
       "    </tr>\n",
       "    <tr>\n",
       "      <th>4</th>\n",
       "      <td>55-64</td>\n",
       "      <td>9.733871</td>\n",
       "      <td>0.923020</td>\n",
       "      <td>248</td>\n",
       "    </tr>\n",
       "    <tr>\n",
       "      <th>5</th>\n",
       "      <td>65-74</td>\n",
       "      <td>9.423077</td>\n",
       "      <td>1.361560</td>\n",
       "      <td>26</td>\n",
       "    </tr>\n",
       "  </tbody>\n",
       "</table>\n",
       "</div>"
      ],
      "text/plain": [
       "     age  media_nps    dp_nps    n\n",
       "0  18-24   9.464539  1.116275  282\n",
       "1  25-34   9.694828  0.957639  580\n",
       "2  35-44   9.707612  0.979501  578\n",
       "3  45-54   9.719039  0.928254  541\n",
       "4  55-64   9.733871  0.923020  248\n",
       "5  65-74   9.423077  1.361560   26"
      ]
     },
     "execution_count": 20,
     "metadata": {},
     "output_type": "execute_result"
    }
   ],
   "source": [
    "dados_nps_filtrados_aj.groupby('age') \\\n",
    "    .agg(media_nps = pd.NamedAgg('nps_score', 'mean'),\n",
    "            dp_nps = pd.NamedAgg('nps_score', 'std'),\n",
    "            n = pd.NamedAgg('nps_score', 'size')) \\\n",
    "    .reset_index()"
   ]
  },
  {
   "cell_type": "markdown",
   "id": "cf75e781",
   "metadata": {},
   "source": [
    "- teste scipy"
   ]
  },
  {
   "cell_type": "code",
   "execution_count": 21,
   "id": "d2c123ce",
   "metadata": {},
   "outputs": [],
   "source": [
    "dados_18_24 = dados_nps_filtrados_aj[dados_nps_filtrados_aj['age'] == '18-24']['nps_score']\n",
    "dados_25_34 = dados_nps_filtrados_aj[dados_nps_filtrados_aj['age'] == '25-34']['nps_score']\n",
    "dados_35_44 = dados_nps_filtrados_aj[dados_nps_filtrados_aj['age'] == '35-44']['nps_score']\n",
    "dados_45_54 = dados_nps_filtrados_aj[dados_nps_filtrados_aj['age'] == '45-54']['nps_score']\n",
    "dados_55_64 = dados_nps_filtrados_aj[dados_nps_filtrados_aj['age'] == '55-64']['nps_score']\n",
    "dados_65_74 = dados_nps_filtrados_aj[dados_nps_filtrados_aj['age'] == '65-74']['nps_score']"
   ]
  },
  {
   "cell_type": "code",
   "execution_count": 22,
   "id": "51f30f9f",
   "metadata": {},
   "outputs": [
    {
     "data": {
      "text/plain": [
       "F_onewayResult(statistic=np.float64(3.522166098104082), pvalue=np.float64(0.0035606861304276695))"
      ]
     },
     "execution_count": 22,
     "metadata": {},
     "output_type": "execute_result"
    }
   ],
   "source": [
    "st.f_oneway(dados_18_24, dados_25_34, dados_35_44, dados_45_54, dados_55_64, dados_65_74)"
   ]
  },
  {
   "cell_type": "markdown",
   "id": "0a827fcc",
   "metadata": {},
   "source": [
    "- se o p-valor for menor que 0.05, rejeito a hipótese nula\n",
    "    - p_value -> 0.007\n"
   ]
  },
  {
   "cell_type": "code",
   "execution_count": null,
   "id": "353e6127",
   "metadata": {},
   "outputs": [],
   "source": []
  }
 ],
 "metadata": {
  "kernelspec": {
   "display_name": "Python 3",
   "language": "python",
   "name": "python3"
  },
  "language_info": {
   "codemirror_mode": {
    "name": "ipython",
    "version": 3
   },
   "file_extension": ".py",
   "mimetype": "text/x-python",
   "name": "python",
   "nbconvert_exporter": "python",
   "pygments_lexer": "ipython3",
   "version": "3.13.5"
  }
 },
 "nbformat": 4,
 "nbformat_minor": 5
}
