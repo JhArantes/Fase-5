{
 "cells": [
  {
   "cell_type": "markdown",
   "id": "4caffea6",
   "metadata": {},
   "source": [
    "# Processamento de Imagens"
   ]
  },
  {
   "cell_type": "markdown",
   "id": "6f39ba2f",
   "metadata": {},
   "source": [
    "## Modulos"
   ]
  },
  {
   "cell_type": "markdown",
   "id": "40f1328b",
   "metadata": {},
   "source": [
    "import numpy as np\n",
    "import pandas as pd\n",
    "import matplotlib.pyplot as plt"
   ]
  },
  {
   "cell_type": "code",
   "execution_count": null,
   "id": "caafc7a1",
   "metadata": {
    "vscode": {
     "languageId": "plaintext"
    }
   },
   "outputs": [],
   "source": [
    "import cv2\n",
    "from PIL import Image\n",
    "import imutils"
   ]
  }
 ],
 "metadata": {
  "language_info": {
   "name": "python"
  }
 },
 "nbformat": 4,
 "nbformat_minor": 5
}
