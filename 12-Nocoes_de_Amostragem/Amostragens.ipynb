{
 "cells": [
  {
   "cell_type": "markdown",
   "id": "a5fc3318",
   "metadata": {},
   "source": [
    "# Amostragem"
   ]
  },
  {
   "cell_type": "markdown",
   "id": "16b6603c",
   "metadata": {},
   "source": [
    "### Modulos"
   ]
  },
  {
   "cell_type": "code",
   "execution_count": null,
   "id": "a2c2c13e",
   "metadata": {},
   "outputs": [],
   "source": [
    "import pandas as pd\n",
    "import numpy as np\n",
    "import random as rd\n",
    "from sklearn.model_selection import train_test_split"
   ]
  },
  {
   "cell_type": "markdown",
   "id": "6658bd99",
   "metadata": {},
   "source": [
    "### Dados"
   ]
  },
  {
   "cell_type": "code",
   "execution_count": 5,
   "id": "5aee033c",
   "metadata": {},
   "outputs": [
    {
     "data": {
      "text/html": [
       "<div>\n",
       "<style scoped>\n",
       "    .dataframe tbody tr th:only-of-type {\n",
       "        vertical-align: middle;\n",
       "    }\n",
       "\n",
       "    .dataframe tbody tr th {\n",
       "        vertical-align: top;\n",
       "    }\n",
       "\n",
       "    .dataframe thead th {\n",
       "        text-align: right;\n",
       "    }\n",
       "</style>\n",
       "<table border=\"1\" class=\"dataframe\">\n",
       "  <thead>\n",
       "    <tr style=\"text-align: right;\">\n",
       "      <th></th>\n",
       "      <th>UF</th>\n",
       "      <th>Municipio</th>\n",
       "      <th>RDPC</th>\n",
       "    </tr>\n",
       "  </thead>\n",
       "  <tbody>\n",
       "    <tr>\n",
       "      <th>0</th>\n",
       "      <td>Rondônia</td>\n",
       "      <td>ALTA FLORESTA D'OESTE</td>\n",
       "      <td>476.99</td>\n",
       "    </tr>\n",
       "    <tr>\n",
       "      <th>1</th>\n",
       "      <td>Rondônia</td>\n",
       "      <td>ARIQUEMES</td>\n",
       "      <td>689.95</td>\n",
       "    </tr>\n",
       "    <tr>\n",
       "      <th>2</th>\n",
       "      <td>Rondônia</td>\n",
       "      <td>CABIXI</td>\n",
       "      <td>457.17</td>\n",
       "    </tr>\n",
       "    <tr>\n",
       "      <th>3</th>\n",
       "      <td>Rondônia</td>\n",
       "      <td>CACOAL</td>\n",
       "      <td>738.06</td>\n",
       "    </tr>\n",
       "    <tr>\n",
       "      <th>4</th>\n",
       "      <td>Rondônia</td>\n",
       "      <td>CEREJEIRAS</td>\n",
       "      <td>577.18</td>\n",
       "    </tr>\n",
       "  </tbody>\n",
       "</table>\n",
       "</div>"
      ],
      "text/plain": [
       "         UF              Municipio    RDPC\n",
       "0  Rondônia  ALTA FLORESTA D'OESTE  476.99\n",
       "1  Rondônia              ARIQUEMES  689.95\n",
       "2  Rondônia                 CABIXI  457.17\n",
       "3  Rondônia                 CACOAL  738.06\n",
       "4  Rondônia             CEREJEIRAS  577.18"
      ]
     },
     "execution_count": 5,
     "metadata": {},
     "output_type": "execute_result"
    }
   ],
   "source": [
    "import pandas as pd \n",
    "dados = pd.read_csv(r'..\\dados\\dados_renda_municipios.csv', sep=',', decimal=',', encoding='utf-8')\n",
    "dados.head()"
   ]
  },
  {
   "cell_type": "code",
   "execution_count": 6,
   "id": "92b8d76e",
   "metadata": {},
   "outputs": [
    {
     "data": {
      "text/plain": [
       "(5565, 3)"
      ]
     },
     "execution_count": 6,
     "metadata": {},
     "output_type": "execute_result"
    }
   ],
   "source": [
    "dados.shape"
   ]
  },
  {
   "cell_type": "markdown",
   "id": "1503b2c9",
   "metadata": {},
   "source": [
    "## Amostragem por Estado"
   ]
  },
  {
   "cell_type": "markdown",
   "id": "41a05cae",
   "metadata": {},
   "source": [
    "- Selecionar estado"
   ]
  },
  {
   "cell_type": "code",
   "execution_count": 7,
   "id": "d9d64639",
   "metadata": {},
   "outputs": [],
   "source": [
    "# Ajustes iniciais\n",
    "uf = 'São Paulo'"
   ]
  },
  {
   "cell_type": "code",
   "execution_count": 9,
   "id": "7fb90982",
   "metadata": {},
   "outputs": [
    {
     "data": {
      "text/html": [
       "<div>\n",
       "<style scoped>\n",
       "    .dataframe tbody tr th:only-of-type {\n",
       "        vertical-align: middle;\n",
       "    }\n",
       "\n",
       "    .dataframe tbody tr th {\n",
       "        vertical-align: top;\n",
       "    }\n",
       "\n",
       "    .dataframe thead th {\n",
       "        text-align: right;\n",
       "    }\n",
       "</style>\n",
       "<table border=\"1\" class=\"dataframe\">\n",
       "  <thead>\n",
       "    <tr style=\"text-align: right;\">\n",
       "      <th></th>\n",
       "      <th>UF</th>\n",
       "      <th>Municipio</th>\n",
       "      <th>RDPC</th>\n",
       "    </tr>\n",
       "  </thead>\n",
       "  <tbody>\n",
       "    <tr>\n",
       "      <th>0</th>\n",
       "      <td>São Paulo</td>\n",
       "      <td>ADAMANTINA</td>\n",
       "      <td>975.43</td>\n",
       "    </tr>\n",
       "    <tr>\n",
       "      <th>1</th>\n",
       "      <td>São Paulo</td>\n",
       "      <td>ADOLFO</td>\n",
       "      <td>661.65</td>\n",
       "    </tr>\n",
       "    <tr>\n",
       "      <th>2</th>\n",
       "      <td>São Paulo</td>\n",
       "      <td>AGUAÍ</td>\n",
       "      <td>636.07</td>\n",
       "    </tr>\n",
       "    <tr>\n",
       "      <th>3</th>\n",
       "      <td>São Paulo</td>\n",
       "      <td>ÁGUAS DA PRATA</td>\n",
       "      <td>853.39</td>\n",
       "    </tr>\n",
       "    <tr>\n",
       "      <th>4</th>\n",
       "      <td>São Paulo</td>\n",
       "      <td>ÁGUAS DE LINDÓIA</td>\n",
       "      <td>730.13</td>\n",
       "    </tr>\n",
       "  </tbody>\n",
       "</table>\n",
       "</div>"
      ],
      "text/plain": [
       "          UF         Municipio    RDPC\n",
       "0  São Paulo        ADAMANTINA  975.43\n",
       "1  São Paulo            ADOLFO  661.65\n",
       "2  São Paulo             AGUAÍ  636.07\n",
       "3  São Paulo    ÁGUAS DA PRATA  853.39\n",
       "4  São Paulo  ÁGUAS DE LINDÓIA  730.13"
      ]
     },
     "execution_count": 9,
     "metadata": {},
     "output_type": "execute_result"
    }
   ],
   "source": [
    "dados_municipios = dados[dados['UF'] == uf].reset_index(drop=True)\n",
    "dados_municipios.head()"
   ]
  },
  {
   "cell_type": "code",
   "execution_count": 11,
   "id": "859b5c28",
   "metadata": {},
   "outputs": [
    {
     "data": {
      "text/plain": [
       "(645, 3)"
      ]
     },
     "execution_count": 11,
     "metadata": {},
     "output_type": "execute_result"
    }
   ],
   "source": [
    "dados_municipios.shape"
   ]
  },
  {
   "cell_type": "code",
   "execution_count": null,
   "id": "397f08ae",
   "metadata": {},
   "outputs": [],
   "source": []
  },
  {
   "cell_type": "code",
   "execution_count": null,
   "id": "2241298a",
   "metadata": {},
   "outputs": [],
   "source": []
  }
 ],
 "metadata": {
  "kernelspec": {
   "display_name": "Python 3",
   "language": "python",
   "name": "python3"
  },
  "language_info": {
   "codemirror_mode": {
    "name": "ipython",
    "version": 3
   },
   "file_extension": ".py",
   "mimetype": "text/x-python",
   "name": "python",
   "nbconvert_exporter": "python",
   "pygments_lexer": "ipython3",
   "version": "3.13.5"
  }
 },
 "nbformat": 4,
 "nbformat_minor": 5
}
